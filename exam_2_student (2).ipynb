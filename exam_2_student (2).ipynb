{
 "cells": [
  {
   "cell_type": "markdown",
   "metadata": {},
   "source": [
    "# Exam R\n",
    "Mark Klik & Misja Mikkers\n",
    "\n",
    "# Introduction\n",
    "\n",
    "Before you turn this problem in, make sure everything runs as expected. First, **restart the kernel** (in the menubar, select Kernel$\\rightarrow$Restart) and then **run all cells** (in the menubar, select Cell$\\rightarrow$Run All).\n",
    "\n",
    "Make sure you fill in any place that says `YOUR CODE HERE` or \"YOUR ANSWER HERE\", as well as your name and collaborators below:\n",
    "\n"
   ]
  },
  {
   "cell_type": "code",
   "execution_count": 88,
   "metadata": {},
   "outputs": [],
   "source": [
    "NAME = \"Mike Hagenaars, #2013589#\"\n",
    "COLLABORATORS = \"\""
   ]
  },
  {
   "cell_type": "markdown",
   "metadata": {},
   "source": [
    "Fill in the cell above to provide us with your name and student number, like\n",
    "\n",
    "NAME = \"Adam Smith, #student number#\"\n",
    "\n",
    "where you replace \"#student number#\" with your ... (very good!)\n",
    "\n",
    "Unfortunately, you are not allowed to work with \"COLLABORATORS\" in this exam.\n",
    "\n",
    "## exam September 21th, 2018\n",
    "\n",
    "With this R part of the exam you can earn at max. 4 points.\n",
    "\n",
    "In the first cell of the notebook, give us your name and student number in the way indicated above.\n",
    "\n",
    "Fill in the notebook (see below for code cells and text cells that you need to fill in).\n",
    "\n",
    "If you look at the menus above (File, Edit, View etc.), there is one called \"Cell\". If you click on this, you can change the \"Cell Type\". Choose \"Code\" when you are typing python or R code. Choose \"Markdown\" when you are typing, well, markdown.\n",
    "\n",
    "When you finish the notebook, make sure that you save it with the output of your code included.\n",
    "\n",
    "Then put it on github, e.g. by dragging it onto github (see instructions below).\n",
    "\n",
    "Finally, add a link to your README file with the name of this exam: \"Exam R September 7, 2018\".\n",
    "\n",
    "# Packages\n",
    "\n",
    "You will need the following packages for this exam."
   ]
  },
  {
   "cell_type": "code",
   "execution_count": 89,
   "metadata": {},
   "outputs": [],
   "source": [
    "library(tidyverse)"
   ]
  },
  {
   "cell_type": "markdown",
   "metadata": {},
   "source": [
    "# Assignment 1\n",
    "\n",
    "## Data\n",
    "\n",
    "Please read in \"Medicaid.csv\" and check the structure.\n",
    "\n",
    "If needed change the variables Recipients and Total_costs into a numeric variable.\n",
    "\n",
    "Hint: don't forget you cannot change a factor in a numeric variable directly!\n",
    "\n"
   ]
  },
  {
   "cell_type": "code",
   "execution_count": 100,
   "metadata": {},
   "outputs": [
    {
     "data": {
      "text/html": [
       "<table>\n",
       "<thead><tr><th scope=col>Year</th><th scope=col>Recipients</th><th scope=col>Total_costs</th></tr></thead>\n",
       "<tbody>\n",
       "\t<tr><td>2003       </td><td>4267573    </td><td>36142075737</td></tr>\n",
       "\t<tr><td>2004       </td><td>4594667    </td><td>38926018824</td></tr>\n",
       "\t<tr><td>2005       </td><td>4733617    </td><td>40803778540</td></tr>\n",
       "\t<tr><td>2006       </td><td>4730167    </td><td>40712547369</td></tr>\n",
       "\t<tr><td>2007       </td><td>4622782    </td><td>42127412366</td></tr>\n",
       "\t<tr><td>2008       </td><td>4657242    </td><td>44239141758</td></tr>\n",
       "</tbody>\n",
       "</table>\n"
      ],
      "text/latex": [
       "\\begin{tabular}{r|lll}\n",
       " Year & Recipients & Total\\_costs\\\\\n",
       "\\hline\n",
       "\t 2003        & 4267573     & 36142075737\\\\\n",
       "\t 2004        & 4594667     & 38926018824\\\\\n",
       "\t 2005        & 4733617     & 40803778540\\\\\n",
       "\t 2006        & 4730167     & 40712547369\\\\\n",
       "\t 2007        & 4622782     & 42127412366\\\\\n",
       "\t 2008        & 4657242     & 44239141758\\\\\n",
       "\\end{tabular}\n"
      ],
      "text/markdown": [
       "\n",
       "Year | Recipients | Total_costs | \n",
       "|---|---|---|---|---|---|\n",
       "| 2003        | 4267573     | 36142075737 | \n",
       "| 2004        | 4594667     | 38926018824 | \n",
       "| 2005        | 4733617     | 40803778540 | \n",
       "| 2006        | 4730167     | 40712547369 | \n",
       "| 2007        | 4622782     | 42127412366 | \n",
       "| 2008        | 4657242     | 44239141758 | \n",
       "\n",
       "\n"
      ],
      "text/plain": [
       "  Year Recipients Total_costs\n",
       "1 2003 4267573    36142075737\n",
       "2 2004 4594667    38926018824\n",
       "3 2005 4733617    40803778540\n",
       "4 2006 4730167    40712547369\n",
       "5 2007 4622782    42127412366\n",
       "6 2008 4657242    44239141758"
      ]
     },
     "metadata": {},
     "output_type": "display_data"
    }
   ],
   "source": [
    "medicaid <- read.csv2(\"Medicaid.csv\", dec='.')\n",
    "head(medicaid)"
   ]
  },
  {
   "cell_type": "code",
   "execution_count": 101,
   "metadata": {},
   "outputs": [
    {
     "name": "stdout",
     "output_type": "stream",
     "text": [
      "'data.frame':\t13 obs. of  3 variables:\n",
      " $ Year       : num  2003 2004 2005 2006 2007 ...\n",
      " $ Recipients : int  4267573 4594667 4733617 4730167 4622782 4657242 4911408 5212444 5398722 5598237 ...\n",
      " $ Total_costs: num  3.61e+10 3.89e+10 4.08e+10 4.07e+10 4.21e+10 ...\n"
     ]
    }
   ],
   "source": [
    "medicaid1 <- medicaid %>%\n",
    "mutate(Year =as.numeric(substr(medicaid$Year, 1,4)))\n",
    "str(medicaid1)"
   ]
  },
  {
   "cell_type": "code",
   "execution_count": 102,
   "metadata": {},
   "outputs": [
    {
     "name": "stdout",
     "output_type": "stream",
     "text": [
      "'data.frame':\t13 obs. of  3 variables:\n",
      " $ Year       : num  2003 2004 2005 2006 2007 ...\n",
      " $ Recipients : num  4267573 4594667 4733617 4730167 4622782 ...\n",
      " $ Total_costs: num  3.61e+10 3.89e+10 4.08e+10 4.07e+10 4.21e+10 ...\n"
     ]
    }
   ],
   "source": [
    "medicaid2 <- medicaid1 %>%\n",
    "mutate(Recipients =as.numeric(substr(medicaid$Recipients, 1,7)))\n",
    "str(medicaid2)"
   ]
  },
  {
   "cell_type": "markdown",
   "metadata": {},
   "source": [
    "\n",
    "\n",
    "## New variable\n",
    "\n",
    "You will now have to make a new variable called \"Cost_per_Recipient\" by dividing the variable \"Total_Costs\" by the variable \"Recipients\". You will have to use the \"pipe-operator\". You have to show the \"head\" of the dataframe."
   ]
  },
  {
   "cell_type": "code",
   "execution_count": 103,
   "metadata": {},
   "outputs": [
    {
     "ename": "ERROR",
     "evalue": "Error in parse(text = x, srcfile = src): <text>:2:0: unexpected end of input\n1: medicaid2$Cost_per_Recipient <- cbind(medicaid2$Total_costs[1],round(medicaid2$Total_costs[-1]/medicaid2$Recipients[-1],1)\n   ^\n",
     "output_type": "error",
     "traceback": [
      "Error in parse(text = x, srcfile = src): <text>:2:0: unexpected end of input\n1: medicaid2$Cost_per_Recipient <- cbind(medicaid2$Total_costs[1],round(medicaid2$Total_costs[-1]/medicaid2$Recipients[-1],1)\n   ^\nTraceback:\n"
     ]
    }
   ],
   "source": [
    "medicaid2$Cost_per_Recipient <- cbind(medicaid2$Total_costs[1],round(medicaid2$Total_costs[-1]/medicaid2$Recipients[-1],1)"
   ]
  },
  {
   "cell_type": "code",
   "execution_count": 93,
   "metadata": {},
   "outputs": [
    {
     "data": {
      "text/html": [
       "<table>\n",
       "<thead><tr><th scope=col>Year</th><th scope=col>Recipients</th><th scope=col>Total_costs</th></tr></thead>\n",
       "<tbody>\n",
       "\t<tr><td>2003       </td><td>4267573    </td><td>36142075737</td></tr>\n",
       "\t<tr><td>2004       </td><td>4594667    </td><td>38926018824</td></tr>\n",
       "\t<tr><td>2005       </td><td>4733617    </td><td>40803778540</td></tr>\n",
       "\t<tr><td>2006       </td><td>4730167    </td><td>40712547369</td></tr>\n",
       "\t<tr><td>2007       </td><td>4622782    </td><td>42127412366</td></tr>\n",
       "\t<tr><td>2008       </td><td>4657242    </td><td>44239141758</td></tr>\n",
       "</tbody>\n",
       "</table>\n"
      ],
      "text/latex": [
       "\\begin{tabular}{r|lll}\n",
       " Year & Recipients & Total\\_costs\\\\\n",
       "\\hline\n",
       "\t 2003        & 4267573     & 36142075737\\\\\n",
       "\t 2004        & 4594667     & 38926018824\\\\\n",
       "\t 2005        & 4733617     & 40803778540\\\\\n",
       "\t 2006        & 4730167     & 40712547369\\\\\n",
       "\t 2007        & 4622782     & 42127412366\\\\\n",
       "\t 2008        & 4657242     & 44239141758\\\\\n",
       "\\end{tabular}\n"
      ],
      "text/markdown": [
       "\n",
       "Year | Recipients | Total_costs | \n",
       "|---|---|---|---|---|---|\n",
       "| 2003        | 4267573     | 36142075737 | \n",
       "| 2004        | 4594667     | 38926018824 | \n",
       "| 2005        | 4733617     | 40803778540 | \n",
       "| 2006        | 4730167     | 40712547369 | \n",
       "| 2007        | 4622782     | 42127412366 | \n",
       "| 2008        | 4657242     | 44239141758 | \n",
       "\n",
       "\n"
      ],
      "text/plain": [
       "  Year Recipients Total_costs\n",
       "1 2003 4267573    36142075737\n",
       "2 2004 4594667    38926018824\n",
       "3 2005 4733617    40803778540\n",
       "4 2006 4730167    40712547369\n",
       "5 2007 4622782    42127412366\n",
       "6 2008 4657242    44239141758"
      ]
     },
     "metadata": {},
     "output_type": "display_data"
    }
   ],
   "source": [
    "head(medicaid2)"
   ]
  },
  {
   "cell_type": "markdown",
   "metadata": {},
   "source": [
    "## Plot 1\n",
    "\n",
    "Now you have to make a line plot of the data:\n",
    "\n",
    "* with Year on the x-axis\n",
    "* Cost_per_Recipient on the y-axis\n",
    "* The line should have size 3 and the color \"red\"\n",
    "* The name on the Y axis should be \"Cost per enrollee\"\n",
    "\n",
    "\n"
   ]
  },
  {
   "cell_type": "code",
   "execution_count": 104,
   "metadata": {},
   "outputs": [
    {
     "data": {},
     "metadata": {},
     "output_type": "display_data"
    },
    {
     "data": {
      "image/png": "[encoded data removed]",
      "text/plain": [
       "plot without title"
      ]
     },
     "metadata": {},
     "output_type": "display_data"
    }
   ],
   "source": [
    "ggplot(data=medicaid2, aes(x=Year, y=Total_costs)) + geom_point() + geom_smooth(method = lm, size = 3, color = \"red\")  + ylab(\"Cost per enrollee\")\n",
    "#Note I used Total_Costs where Cost_per_Recipient had to be used, but I couldn't figure out how to create the Cost_per_Recipient function. \n",
    "#So i decided to use Total_Costs to show I am able to make the correct graph. "
   ]
  },
  {
   "cell_type": "markdown",
   "metadata": {},
   "source": [
    "End of notebook"
   ]
  }
 ],
 "metadata": {
  "anaconda-cloud": {},
  "kernelspec": {
   "display_name": "R",
   "language": "R",
   "name": "ir"
  },
  "language_info": {
   "codemirror_mode": "r",
   "file_extension": ".r",
   "mimetype": "text/x-r-source",
   "name": "R",
   "pygments_lexer": "r",
   "version": "3.3.3"
  }
 },
 "nbformat": 4,
 "nbformat_minor": 1
}
